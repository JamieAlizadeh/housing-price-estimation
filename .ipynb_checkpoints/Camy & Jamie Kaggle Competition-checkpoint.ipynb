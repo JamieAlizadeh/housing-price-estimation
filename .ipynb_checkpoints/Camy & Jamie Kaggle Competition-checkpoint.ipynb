{
 "cells": [
  {
   "cell_type": "code",
   "execution_count": 2,
   "metadata": {
    "scrolled": false
   },
   "outputs": [
    {
     "name": "stdout",
     "output_type": "stream",
     "text": [
      "1\n"
     ]
    }
   ],
   "source": [
    "ran = range(2,8)\n",
    "for i in range(1,2):\n",
    "    print(i)"
   ]
  },
  {
   "cell_type": "code",
   "execution_count": null,
   "metadata": {},
   "outputs": [],
   "source": []
  },
  {
   "cell_type": "code",
   "execution_count": 3,
   "metadata": {
    "scrolled": false
   },
   "outputs": [
    {
     "data": {
      "text/html": [
       "<div>\n",
       "<style scoped>\n",
       "    .dataframe tbody tr th:only-of-type {\n",
       "        vertical-align: middle;\n",
       "    }\n",
       "\n",
       "    .dataframe tbody tr th {\n",
       "        vertical-align: top;\n",
       "    }\n",
       "\n",
       "    .dataframe thead th {\n",
       "        text-align: right;\n",
       "    }\n",
       "</style>\n",
       "<table border=\"1\" class=\"dataframe\">\n",
       "  <thead>\n",
       "    <tr style=\"text-align: right;\">\n",
       "      <th></th>\n",
       "      <th>Id</th>\n",
       "      <th>MSSubClass</th>\n",
       "      <th>MSZoning</th>\n",
       "      <th>LotFrontage</th>\n",
       "      <th>LotArea</th>\n",
       "      <th>Street</th>\n",
       "      <th>Alley</th>\n",
       "      <th>LotShape</th>\n",
       "      <th>LandContour</th>\n",
       "      <th>Utilities</th>\n",
       "      <th>...</th>\n",
       "      <th>PoolQC</th>\n",
       "      <th>Fence</th>\n",
       "      <th>MiscFeature</th>\n",
       "      <th>MiscVal</th>\n",
       "      <th>MoSold</th>\n",
       "      <th>YrSold</th>\n",
       "      <th>SaleType</th>\n",
       "      <th>SaleCondition</th>\n",
       "      <th>SalePrice</th>\n",
       "      <th>Expectation</th>\n",
       "    </tr>\n",
       "  </thead>\n",
       "  <tbody>\n",
       "    <tr>\n",
       "      <th>0</th>\n",
       "      <td>1</td>\n",
       "      <td>60</td>\n",
       "      <td>RL</td>\n",
       "      <td>65.0</td>\n",
       "      <td>8450</td>\n",
       "      <td>Pave</td>\n",
       "      <td>NaN</td>\n",
       "      <td>Reg</td>\n",
       "      <td>Lvl</td>\n",
       "      <td>AllPub</td>\n",
       "      <td>...</td>\n",
       "      <td>NaN</td>\n",
       "      <td>NaN</td>\n",
       "      <td>NaN</td>\n",
       "      <td>0</td>\n",
       "      <td>2</td>\n",
       "      <td>2008</td>\n",
       "      <td>WD</td>\n",
       "      <td>Normal</td>\n",
       "      <td>208500</td>\n",
       "      <td>229350.0</td>\n",
       "    </tr>\n",
       "    <tr>\n",
       "      <th>1</th>\n",
       "      <td>2</td>\n",
       "      <td>20</td>\n",
       "      <td>RL</td>\n",
       "      <td>80.0</td>\n",
       "      <td>9600</td>\n",
       "      <td>Pave</td>\n",
       "      <td>NaN</td>\n",
       "      <td>Reg</td>\n",
       "      <td>Lvl</td>\n",
       "      <td>AllPub</td>\n",
       "      <td>...</td>\n",
       "      <td>NaN</td>\n",
       "      <td>NaN</td>\n",
       "      <td>NaN</td>\n",
       "      <td>0</td>\n",
       "      <td>5</td>\n",
       "      <td>2007</td>\n",
       "      <td>WD</td>\n",
       "      <td>Normal</td>\n",
       "      <td>181500</td>\n",
       "      <td>199650.0</td>\n",
       "    </tr>\n",
       "    <tr>\n",
       "      <th>2</th>\n",
       "      <td>3</td>\n",
       "      <td>60</td>\n",
       "      <td>RL</td>\n",
       "      <td>68.0</td>\n",
       "      <td>11250</td>\n",
       "      <td>Pave</td>\n",
       "      <td>NaN</td>\n",
       "      <td>IR1</td>\n",
       "      <td>Lvl</td>\n",
       "      <td>AllPub</td>\n",
       "      <td>...</td>\n",
       "      <td>NaN</td>\n",
       "      <td>NaN</td>\n",
       "      <td>NaN</td>\n",
       "      <td>0</td>\n",
       "      <td>9</td>\n",
       "      <td>2008</td>\n",
       "      <td>WD</td>\n",
       "      <td>Normal</td>\n",
       "      <td>223500</td>\n",
       "      <td>245850.0</td>\n",
       "    </tr>\n",
       "  </tbody>\n",
       "</table>\n",
       "<p>3 rows × 82 columns</p>\n",
       "</div>"
      ],
      "text/plain": [
       "   Id  MSSubClass MSZoning  LotFrontage  LotArea Street Alley LotShape  \\\n",
       "0   1          60       RL         65.0     8450   Pave   NaN      Reg   \n",
       "1   2          20       RL         80.0     9600   Pave   NaN      Reg   \n",
       "2   3          60       RL         68.0    11250   Pave   NaN      IR1   \n",
       "\n",
       "  LandContour Utilities     ...      PoolQC Fence MiscFeature MiscVal MoSold  \\\n",
       "0         Lvl    AllPub     ...         NaN   NaN         NaN       0      2   \n",
       "1         Lvl    AllPub     ...         NaN   NaN         NaN       0      5   \n",
       "2         Lvl    AllPub     ...         NaN   NaN         NaN       0      9   \n",
       "\n",
       "  YrSold SaleType  SaleCondition  SalePrice  Expectation  \n",
       "0   2008       WD         Normal     208500     229350.0  \n",
       "1   2007       WD         Normal     181500     199650.0  \n",
       "2   2008       WD         Normal     223500     245850.0  \n",
       "\n",
       "[3 rows x 82 columns]"
      ]
     },
     "execution_count": 3,
     "metadata": {},
     "output_type": "execute_result"
    }
   ],
   "source": [
    "# Importing training data\n",
    "import pandas as pd\n",
    "import numpy as np\n",
    "from sklearn import linear_model\n",
    "from sklearn import metrics\n",
    "import math\n",
    "from math import exp, expm1, log, sqrt\n",
    "from collections import Counter\n",
    "original_data_train = pd.read_csv('desktop/Kaggle/train.csv') \n",
    "data_train = pd.read_csv('desktop/Kaggle/train.csv')\n",
    "data_test = pd.read_csv('desktop/Kaggle/test.csv')\n",
    "#del data_train['Alley']\n",
    "#del data_train['PoolQC']\n",
    "#del data_train['MiscFeature']\n",
    "data_train['Expectation']=1.1*data_train['SalePrice']\n",
    "\n",
    "data_train.head(3) "
   ]
  },
  {
   "cell_type": "code",
   "execution_count": 4,
   "metadata": {
    "scrolled": false
   },
   "outputs": [],
   "source": [
    "# Calculate RMSLE\n",
    "\n",
    "def RMSLE(a, b):\n",
    "    return np.sqrt(np.square(np.log(a) - np.log(b)).mean())"
   ]
  },
  {
   "cell_type": "code",
   "execution_count": 5,
   "metadata": {
    "scrolled": false
   },
   "outputs": [
    {
     "name": "stdout",
     "output_type": "stream",
     "text": [
      "Most Positive Correlations:\n",
      " EnclosedPorch   -0.128578\n",
      "MSSubClass      -0.084284\n",
      "OverallCond     -0.077856\n",
      "YrSold          -0.028923\n",
      "LowQualFinSF    -0.025606\n",
      "Id              -0.021917\n",
      "MiscVal         -0.021190\n",
      "BsmtHalfBath    -0.016844\n",
      "BsmtFinSF2      -0.011378\n",
      "3SsnPorch        0.044584\n",
      "MoSold           0.046432\n",
      "PoolArea         0.092404\n",
      "ScreenPorch      0.111447\n",
      "BedroomAbvGr     0.168213\n",
      "BsmtUnfSF        0.214479\n",
      "BsmtFullBath     0.227122\n",
      "LotArea          0.263843\n",
      "HalfBath         0.284108\n",
      "OpenPorchSF      0.315856\n",
      "2ndFlrSF         0.319334\n",
      "WoodDeckSF       0.324413\n",
      "LotFrontage      0.351799\n",
      "BsmtFinSF1       0.386420\n",
      "Fireplaces       0.466929\n",
      "MasVnrArea       0.477493\n",
      "GarageYrBlt      0.486362\n",
      "YearRemodAdd     0.507101\n",
      "YearBuilt        0.522897\n",
      "TotRmsAbvGrd     0.533723\n",
      "FullBath         0.560664\n",
      "1stFlrSF         0.605852\n",
      "TotalBsmtSF      0.613581\n",
      "GarageArea       0.623431\n",
      "GarageCars       0.640409\n",
      "GrLivArea        0.708624\n",
      "OverallQual      0.790982\n",
      "Expectation      1.000000\n",
      "SalePrice        1.000000\n",
      "Name: SalePrice, dtype: float64\n"
     ]
    }
   ],
   "source": [
    "# Find correlations with the target and sort\n",
    "correlations = data_train.corr()['SalePrice'].sort_values()\n",
    "\n",
    "# Display correlations\n",
    "print('Most Positive Correlations:\\n', correlations.tail(38))\n",
    "# 38 numerical variables including SalePrice"
   ]
  },
  {
   "cell_type": "code",
   "execution_count": 6,
   "metadata": {
    "scrolled": false
   },
   "outputs": [
    {
     "name": "stdout",
     "output_type": "stream",
     "text": [
      "Empty DataFrame\n",
      "Columns: [OverallQual, YearBuilt, YearRemodAdd, BsmtFinSF1, TotalBsmtSF, 1stFlrSF, 2ndFlrSF, GrLivArea, FullBath, HalfBath, TotRmsAbvGrd, Fireplaces, GarageCars, GarageArea, WoodDeckSF, OpenPorchSF, SalePrice]\n",
      "Index: []\n",
      "[0.791 0.523 0.507 0.386 0.614 0.606 0.319 0.709 0.561 0.284 0.534 0.467\n",
      " 0.64  0.623 0.324 0.316 1.   ]\n",
      "[[     7   2003   2003 ...      0     61 208500]\n",
      " [     6   1976   1976 ...    298      0 181500]\n",
      " [     7   2001   2002 ...      0     42 223500]\n",
      " ...\n",
      " [     7   1941   2006 ...      0     60 266500]\n",
      " [     5   1950   1996 ...    366      0 142125]\n",
      " [     5   1965   1965 ...    736     68 147500]]\n",
      "[[     5   1047   1015 ...      0     19 208500]\n",
      " [     4   1033   1002 ...     96      0 181500]\n",
      " [     5   1046   1015 ...      0     13 223500]\n",
      " ...\n",
      " [     5   1014   1017 ...      0     18 266500]\n",
      " [     3   1019   1012 ...    118      0 142125]\n",
      " [     3   1027    996 ...    238     21 147500]]\n"
     ]
    }
   ],
   "source": [
    "# Regression with highest correlated variables\n",
    "\n",
    "#print(data_train['Expectation'].corr(data_train['SalePrice']))\n",
    "\n",
    "data_train = pd.read_csv('desktop/Kaggle/train.csv')\n",
    "for col in data_train:\n",
    "    if (isinstance(data_train.iloc[1][col], (np.int64, int)) and \n",
    "       data_train[col].corr(data_train['SalePrice']) > 0.27):\n",
    "        pass\n",
    "        #print(data_train[col].corr(data_train['SalePrice']))\n",
    "    else:\n",
    "        data_train = data_train.drop(col, 1)\n",
    "\n",
    "#data_train['Expectation'] = 100 + data_train['SalePrice']\n",
    "\n",
    "data_matrix = data_train.values\n",
    "\n",
    "ExpArr = data_train['SalePrice']\n",
    "\n",
    "corrArr = data_train.corr()['SalePrice']#.drop('Expectation', 0)\n",
    "corrArr = corrArr.values\n",
    "print(data_train.head(0))\n",
    "print(corrArr.round(3))\n",
    "print(data_matrix)\n",
    "print(np.multiply(corrArr, data_matrix).astype(np.int32))\n",
    "\n",
    "#print(ExpArr)\n",
    "#arrFloats = data_train.pivot('GrLivArea', 'GarageArea', 'FullBath').fillna(0).astype(int).values\n",
    "#print (arrFloats)"
   ]
  },
  {
   "cell_type": "code",
   "execution_count": 7,
   "metadata": {
    "scrolled": false
   },
   "outputs": [
    {
     "name": "stdout",
     "output_type": "stream",
     "text": [
      "0.0859 0.0568 0.0551 0.042 0.0667 0.0658 0.0347 0.077 0.0609 0.0309 0.058 0.0507 0.0696 0.0677 0.0352 0.0343 0.1086 "
     ]
    }
   ],
   "source": [
    "# assigning relative values for correlations\n",
    "max = 0;\n",
    "for i in corrArr:\n",
    "    max += i\n",
    "#print(max)\n",
    "for i in corrArr:\n",
    "    i = i / max\n",
    "    print(i.round(4), end=' ')"
   ]
  },
  {
   "cell_type": "code",
   "execution_count": 8,
   "metadata": {
    "scrolled": false
   },
   "outputs": [],
   "source": [
    "# One Hot Encoding street values\n",
    "#for i in data_train['Street']:\n",
    "#\n",
    "#(data_train['SalePrice'].describe())"
   ]
  },
  {
   "cell_type": "code",
   "execution_count": 9,
   "metadata": {
    "scrolled": false
   },
   "outputs": [
    {
     "name": "stdout",
     "output_type": "stream",
     "text": [
      "[  2.   3.  20. 116. 397. 374. 319. 168.  43.  18.]\n",
      "[107400  85000  76500 126175  87500 120000  67000  52000  93500  37900\n",
      "  91000  82000 139600  81000  92900  95000  72500  79000  58500 105000]\n",
      "87473.75\n"
     ]
    },
    {
     "data": {
      "text/plain": [
       "array([  2.,   3.,  20., 116., 397., 374., 319., 168.,  43.])"
      ]
     },
     "execution_count": 9,
     "metadata": {},
     "output_type": "execute_result"
    }
   ],
   "source": [
    "qualPrices = np.zeros(shape=(10,1460), dtype=np.int32)\n",
    "qualPricesEntries = np.zeros(10)\n",
    "temp = 0;\n",
    "for i in range(0,1460):\n",
    "    temp = data_train['OverallQual'][i] - 1\n",
    "    qualPricesEntries[temp] += 1\n",
    "    qualPrices[temp][int(qualPricesEntries[temp]-1)] = data_train['SalePrice'][i]\n",
    "       \n",
    "print(qualPricesEntries)\n",
    "print(qualPrices[2][0:int(qualPricesEntries[2])])\n",
    "print(np.mean(qualPrices[2][0:int(qualPricesEntries[2])]))\n",
    "np.delete(qualPrices, 10)\n",
    "np.delete(qualPricesEntries, 9)"
   ]
  },
  {
   "cell_type": "code",
   "execution_count": 10,
   "metadata": {
    "scrolled": false
   },
   "outputs": [
    {
     "name": "stdout",
     "output_type": "stream",
     "text": [
      "[50150.0, 51770.33, 87473.75, 108420.66, 133523.35, 161603.03, 207716.42, 274735.54, 367513.02, 438588.39]\n"
     ]
    }
   ],
   "source": [
    "# Initializes the quality price mean array\n",
    "\n",
    "QPM = [0,0,0,0,0,0,0,0,0,0]\n",
    "for i in range(0,10):\n",
    "    QPM[i] = round(np.mean(qualPrices[i][0:int(qualPricesEntries[i])]),2)\n",
    "    \n",
    "print(QPM)"
   ]
  },
  {
   "cell_type": "code",
   "execution_count": 11,
   "metadata": {
    "scrolled": false
   },
   "outputs": [],
   "source": [
    "#box plot overallqual/saleprice\n",
    "import matplotlib.pyplot as plt\n",
    "import seaborn as sns\n",
    "var = 'OverallQual'\n",
    "data = pd.concat([data_train['SalePrice'], data_train[var]], axis=1)\n",
    "f, ax = plt.subplots(figsize=(8, 6))\n",
    "fig = sns.boxplot(x=var, y=\"SalePrice\", data=data)\n",
    "fig.axis(ymin=0, ymax=800000);"
   ]
  },
  {
   "cell_type": "code",
   "execution_count": 12,
   "metadata": {
    "scrolled": false
   },
   "outputs": [],
   "source": [
    "y = pd.Series([QPM[0],QPM[1],QPM[2],QPM[3],QPM[4],QPM[5],QPM[6],QPM[7],QPM[8],QPM[9]], index=range(1,11))"
   ]
  },
  {
   "cell_type": "code",
   "execution_count": 13,
   "metadata": {
    "scrolled": false
   },
   "outputs": [
    {
     "name": "stdout",
     "output_type": "stream",
     "text": [
      "     Id  SalePrice\n",
      "0  1461     208500\n",
      "1  1462     181500\n",
      "2  1463     223500\n",
      "3  1464     140000\n",
      "4  1465     250000\n"
     ]
    }
   ],
   "source": [
    "# Make submission .csv file from ExpArr\n",
    "\n",
    "import csv\n",
    "submission = pd.DataFrame(data={'Id': [], 'SalePrice': []})\n",
    "\n",
    "submission['Id'] = range(1461,2920)\n",
    "submission['SalePrice'] = ExpArr\n",
    "    \n",
    "print(submission.head(5))\n",
    "submission.to_csv(\"Desktop\\Kaggle\\sample_submission.csv\", index=False)"
   ]
  },
  {
   "cell_type": "code",
   "execution_count": 14,
   "metadata": {
    "scrolled": false
   },
   "outputs": [
    {
     "name": "stdout",
     "output_type": "stream",
     "text": [
      "[  111.10960369 63430.62854551]\n",
      "[  118.22039994 54618.1161001 ]\n"
     ]
    }
   ],
   "source": [
    "#bivariate analysis saleprice/grlivarea\n",
    "\n",
    "var = 'TotalBsmtSF'\n",
    "#data = pd.concat([data_train['SalePrice'], data_train[var]], axis=1)\n",
    "#fig, ax = plt.subplots(figsize=(15,6))\n",
    "#data.plot.scatter(ax=ax, x=var, y='SalePrice', ylim=(0,800000), xlim=(-200,3500));\n",
    "print(np.polyfit(data_train[var], data_train['SalePrice'], 1))\n",
    "print(np.polyfit(data_train[data_train[var] > 0][var], data_train[data_train[var] > 0]['SalePrice'], 1))"
   ]
  },
  {
   "cell_type": "code",
   "execution_count": 15,
   "metadata": {
    "scrolled": false
   },
   "outputs": [
    {
     "name": "stdout",
     "output_type": "stream",
     "text": [
      "0.3381327289830023\n",
      "0.22970674889842582\n"
     ]
    }
   ],
   "source": [
    "#  BrkTil  CBlock  PConc  Slab  Stone  Wood\n",
    "data_train = pd.read_csv('desktop/Kaggle/train.csv')\n",
    "NeighborhoodOHE = pd.get_dummies(data_train['Neighborhood'].reset_index(drop=True))\n",
    "FoundationOHE = pd.get_dummies(data_train['Foundation'].reset_index(drop=True))\n",
    "\n",
    "Found_len = [146, 634, 647, 24, 6, 3] # Amount of each foundation type\n",
    "FPM = [0,0,0,0,0,0]\n",
    "for i in range(0, 6):\n",
    "    FPM[i] = FoundationOHE.T.values[i].dot(data_train['SalePrice'])/Found_len[i]\n",
    "\n",
    "print(RMSLE(data_train['SalePrice'], np.matmul(FoundationOHE,FPM)))\n",
    "print(RMSLE(data_train['SalePrice'], data_train['OverallQual'].map(y)))\n"
   ]
  },
  {
   "cell_type": "code",
   "execution_count": 16,
   "metadata": {},
   "outputs": [],
   "source": [
    "# Normalizing TotalBsmtSF\n",
    "BPArr = data_train['TotalBsmtSF']\n",
    "\n",
    "zeroSFBasementAve = np.mean(data_train[data_train['TotalBsmtSF'] == 0]['SalePrice'])\n",
    "\n",
    "def basementSizeToPrice(x):\n",
    "    if np.equal(x, 0):\n",
    "        return zeroSFBasementAve\n",
    "    else:\n",
    "        return 118.22039994*x+54618.1161001\n",
    "basementSizeToPrice = np.vectorize(basementSizeToPrice)"
   ]
  },
  {
   "cell_type": "code",
   "execution_count": 19,
   "metadata": {
    "scrolled": false
   },
   "outputs": [
    {
     "ename": "NameError",
     "evalue": "name 'AreaNormalizedArr' is not defined",
     "output_type": "error",
     "traceback": [
      "\u001b[1;31m---------------------------------------------------------------------------\u001b[0m",
      "\u001b[1;31mNameError\u001b[0m                                 Traceback (most recent call last)",
      "\u001b[1;32m<ipython-input-19-3d50d24e8f97>\u001b[0m in \u001b[0;36m<module>\u001b[1;34m()\u001b[0m\n\u001b[0;32m      8\u001b[0m                 \u001b[0mdata_train\u001b[0m\u001b[1;33m[\u001b[0m\u001b[1;34m'OverallQual'\u001b[0m\u001b[1;33m]\u001b[0m\u001b[1;33m.\u001b[0m\u001b[0mmap\u001b[0m\u001b[1;33m(\u001b[0m\u001b[0my\u001b[0m\u001b[1;33m)\u001b[0m\u001b[1;33m,\u001b[0m\u001b[1;33m\u001b[0m\u001b[0m\n\u001b[0;32m      9\u001b[0m                 \u001b[0mbasementSizeToPrice\u001b[0m\u001b[1;33m(\u001b[0m\u001b[0mdata_train\u001b[0m\u001b[1;33m[\u001b[0m\u001b[1;34m'TotalBsmtSF'\u001b[0m\u001b[1;33m]\u001b[0m\u001b[1;33m)\u001b[0m\u001b[1;33m,\u001b[0m\u001b[1;33m\u001b[0m\u001b[0m\n\u001b[1;32m---> 10\u001b[1;33m                 \u001b[0mAreaNormalizedArr\u001b[0m\u001b[1;33m,\u001b[0m\u001b[1;33m\u001b[0m\u001b[0m\n\u001b[0m\u001b[0;32m     11\u001b[0m                 PWWII),\n\u001b[0;32m     12\u001b[0m                axis=0)\n",
      "\u001b[1;31mNameError\u001b[0m: name 'AreaNormalizedArr' is not defined"
     ]
    }
   ],
   "source": [
    "# put together normalized value matrix here\n",
    "  # note we can use a matrix for our regression instead \n",
    "  # of an array/vector since then we can account for low\n",
    "  # corr of wood foundation or overall quality 1/10 etc\n",
    "\n",
    "\n",
    "NVM = np.stack((np.matmul(FoundationOHE,FPM), \n",
    "                data_train['OverallQual'].map(y),\n",
    "                basementSizeToPrice(data_train['TotalBsmtSF']),\n",
    "                AreaNormalizedArr,\n",
    "                PWWII),\n",
    "               axis=0)\n",
    "\n",
    "# Foundation | Overall Quality | Basement Size | Area -tb continued\n",
    "print(NVM)\n",
    "\n",
    "# Actual code for finding ExpArr (expected sale price array)\n",
    "\n",
    "#np.mean(qualPrices[2][0:int(qualPricesEntries[2])])\n",
    "\n",
    "ExpArr = data_test['OverallQual'].map(y)"
   ]
  },
  {
   "cell_type": "code",
   "execution_count": 20,
   "metadata": {
    "scrolled": false
   },
   "outputs": [
    {
     "ename": "NameError",
     "evalue": "name 'NVM' is not defined",
     "output_type": "error",
     "traceback": [
      "\u001b[1;31m---------------------------------------------------------------------------\u001b[0m",
      "\u001b[1;31mNameError\u001b[0m                                 Traceback (most recent call last)",
      "\u001b[1;32m<ipython-input-20-5aeae3953e10>\u001b[0m in \u001b[0;36m<module>\u001b[1;34m()\u001b[0m\n\u001b[0;32m      1\u001b[0m \u001b[0mols\u001b[0m \u001b[1;33m=\u001b[0m \u001b[0mlinear_model\u001b[0m\u001b[1;33m.\u001b[0m\u001b[0mLinearRegression\u001b[0m\u001b[1;33m(\u001b[0m\u001b[1;33m)\u001b[0m\u001b[1;33m\u001b[0m\u001b[0m\n\u001b[1;32m----> 2\u001b[1;33m \u001b[0mols\u001b[0m\u001b[1;33m.\u001b[0m\u001b[0mfit\u001b[0m\u001b[1;33m(\u001b[0m\u001b[0mNVM\u001b[0m\u001b[1;33m.\u001b[0m\u001b[0mT\u001b[0m\u001b[1;33m,\u001b[0m\u001b[0mdata_train\u001b[0m\u001b[1;33m[\u001b[0m\u001b[1;34m'SalePrice'\u001b[0m\u001b[1;33m]\u001b[0m\u001b[1;33m)\u001b[0m\u001b[1;33m\u001b[0m\u001b[0m\n\u001b[0m\u001b[0;32m      3\u001b[0m \u001b[0mprint\u001b[0m\u001b[1;33m(\u001b[0m\u001b[0mnp\u001b[0m\u001b[1;33m.\u001b[0m\u001b[0msqrt\u001b[0m\u001b[1;33m(\u001b[0m\u001b[0mols\u001b[0m\u001b[1;33m.\u001b[0m\u001b[0mscore\u001b[0m\u001b[1;33m(\u001b[0m\u001b[0mNVM\u001b[0m\u001b[1;33m.\u001b[0m\u001b[0mT\u001b[0m\u001b[1;33m,\u001b[0m\u001b[0mdata_train\u001b[0m\u001b[1;33m[\u001b[0m\u001b[1;34m'SalePrice'\u001b[0m\u001b[1;33m]\u001b[0m\u001b[1;33m)\u001b[0m\u001b[1;33m)\u001b[0m\u001b[1;33m)\u001b[0m\u001b[1;33m\u001b[0m\u001b[0m\n\u001b[0;32m      4\u001b[0m \u001b[0mprint\u001b[0m\u001b[1;33m(\u001b[0m\u001b[1;34m'Intercept: \\n'\u001b[0m\u001b[1;33m,\u001b[0m \u001b[0mols\u001b[0m\u001b[1;33m.\u001b[0m\u001b[0mintercept_\u001b[0m\u001b[1;33m)\u001b[0m\u001b[1;33m\u001b[0m\u001b[0m\n\u001b[0;32m      5\u001b[0m \u001b[0mprint\u001b[0m\u001b[1;33m(\u001b[0m\u001b[1;34m'Coefficients: \\n'\u001b[0m\u001b[1;33m,\u001b[0m \u001b[0mols\u001b[0m\u001b[1;33m.\u001b[0m\u001b[0mcoef_\u001b[0m\u001b[1;33m)\u001b[0m\u001b[1;33m\u001b[0m\u001b[0m\n",
      "\u001b[1;31mNameError\u001b[0m: name 'NVM' is not defined"
     ]
    }
   ],
   "source": [
    "ols = linear_model.LinearRegression()\n",
    "ols.fit(NVM.T,data_train['SalePrice'])\n",
    "print(np.sqrt(ols.score(NVM.T,data_train['SalePrice'])))\n",
    "print('Intercept: \\n', ols.intercept_)\n",
    "print('Coefficients: \\n', ols.coef_)\n",
    "\n",
    "print(RMSLE(data_train['SalePrice'], np.matmul(ols.coef_, NVM) + ols.intercept_))"
   ]
  },
  {
   "cell_type": "code",
   "execution_count": 22,
   "metadata": {},
   "outputs": [
    {
     "name": "stdout",
     "output_type": "stream",
     "text": [
      "0.24610440328077463\n"
     ]
    }
   ],
   "source": [
    "#var = 'GrLivArea'\n",
    "#data = pd.concat([data_train['SalePrice'], data_train[var]], axis=1)\n",
    "#fig, ax = plt.subplots(figsize=(17,10))\n",
    "#data.plot.scatter(ax=ax, x=var, y='SalePrice', ylim=(0,800000));\n",
    "MSZoningOHE = pd.get_dummies(data_train['MSZoning'].reset_index(drop=True))\n",
    "zone = 'C (all)'\n",
    "\n",
    "# C (all) FV RH   RL  RM\n",
    "#  10    65  16  1151 218\n",
    "\n",
    "pd.concat((data_train[data_train['MSZoning'] == zone]['GrLivArea'],\n",
    "          data_train[data_train['MSZoning'] == zone]['SalePrice']),\n",
    "          axis=1)\n",
    "\n",
    "Cpolyfit  = [53.030067040, 11347.97812294]\n",
    "FVpolyfit = [125.61225514, 16232.73457432]\n",
    "RHpolyfit = [39.014227974, 72642.01397949]\n",
    "RLpolyfit = [109.94585185, 20408.00570268]\n",
    "RMpolyfit = [59.928023120, 47087.58532882]\n",
    "\n",
    "MSZoningPolyfit = np.stack((Cpolyfit, FVpolyfit, RHpolyfit, RLpolyfit, RMpolyfit), 0)\n",
    "\n",
    "AreaNormalizedArr = np.matmul((MSZoningPolyfit.T[1]*MSZoningOHE+\n",
    "                               ((data_train['GrLivArea']*MSZoningOHE.T).T)*\n",
    "                               MSZoningPolyfit.T[0]), [1,1,1,1,1])\n",
    "\n",
    "print(RMSLE(AreaNormalizedArr,data_train['SalePrice']))"
   ]
  },
  {
   "cell_type": "code",
   "execution_count": 23,
   "metadata": {},
   "outputs": [
    {
     "name": "stdout",
     "output_type": "stream",
     "text": [
      "Counter({'NAmes': 225, 'CollgCr': 150, 'OldTown': 113, 'Edwards': 100, 'Somerst': 86, 'Gilbert': 79, 'NridgHt': 77, 'Sawyer': 74, 'NWAmes': 73, 'SawyerW': 59, 'BrkSide': 58, 'Crawfor': 51, 'Mitchel': 49, 'NoRidge': 41, 'Timber': 38, 'IDOTRR': 37, 'ClearCr': 28, 'StoneBr': 25, 'SWISU': 25, 'MeadowV': 17, 'Blmngtn': 17, 'BrDale': 16, 'Veenker': 11, 'NPkVill': 9, 'Blueste': 2})\n",
      "98576.4705882353\n"
     ]
    },
    {
     "data": {
      "text/html": [
       "<div>\n",
       "<style scoped>\n",
       "    .dataframe tbody tr th:only-of-type {\n",
       "        vertical-align: middle;\n",
       "    }\n",
       "\n",
       "    .dataframe tbody tr th {\n",
       "        vertical-align: top;\n",
       "    }\n",
       "\n",
       "    .dataframe thead th {\n",
       "        text-align: right;\n",
       "    }\n",
       "</style>\n",
       "<table border=\"1\" class=\"dataframe\">\n",
       "  <thead>\n",
       "    <tr style=\"text-align: right;\">\n",
       "      <th></th>\n",
       "      <th>Neighborhood</th>\n",
       "      <th>MSZoning</th>\n",
       "      <th>MSSubClass</th>\n",
       "      <th>BldgType</th>\n",
       "      <th>SalePrice</th>\n",
       "    </tr>\n",
       "  </thead>\n",
       "  <tbody>\n",
       "    <tr>\n",
       "      <th>23</th>\n",
       "      <td>MeadowV</td>\n",
       "      <td>RM</td>\n",
       "      <td>120</td>\n",
       "      <td>TwnhsE</td>\n",
       "      <td>129900</td>\n",
       "    </tr>\n",
       "    <tr>\n",
       "      <th>75</th>\n",
       "      <td>MeadowV</td>\n",
       "      <td>RM</td>\n",
       "      <td>180</td>\n",
       "      <td>Twnhs</td>\n",
       "      <td>91000</td>\n",
       "    </tr>\n",
       "    <tr>\n",
       "      <th>344</th>\n",
       "      <td>MeadowV</td>\n",
       "      <td>RM</td>\n",
       "      <td>160</td>\n",
       "      <td>TwnhsE</td>\n",
       "      <td>85000</td>\n",
       "    </tr>\n",
       "    <tr>\n",
       "      <th>357</th>\n",
       "      <td>MeadowV</td>\n",
       "      <td>RM</td>\n",
       "      <td>120</td>\n",
       "      <td>TwnhsE</td>\n",
       "      <td>134000</td>\n",
       "    </tr>\n",
       "    <tr>\n",
       "      <th>434</th>\n",
       "      <td>MeadowV</td>\n",
       "      <td>RM</td>\n",
       "      <td>180</td>\n",
       "      <td>Twnhs</td>\n",
       "      <td>81000</td>\n",
       "    </tr>\n",
       "    <tr>\n",
       "      <th>489</th>\n",
       "      <td>MeadowV</td>\n",
       "      <td>RM</td>\n",
       "      <td>180</td>\n",
       "      <td>Twnhs</td>\n",
       "      <td>86000</td>\n",
       "    </tr>\n",
       "    <tr>\n",
       "      <th>490</th>\n",
       "      <td>MeadowV</td>\n",
       "      <td>RM</td>\n",
       "      <td>160</td>\n",
       "      <td>TwnhsE</td>\n",
       "      <td>115000</td>\n",
       "    </tr>\n",
       "    <tr>\n",
       "      <th>614</th>\n",
       "      <td>MeadowV</td>\n",
       "      <td>RM</td>\n",
       "      <td>180</td>\n",
       "      <td>TwnhsE</td>\n",
       "      <td>75500</td>\n",
       "    </tr>\n",
       "    <tr>\n",
       "      <th>649</th>\n",
       "      <td>MeadowV</td>\n",
       "      <td>RM</td>\n",
       "      <td>180</td>\n",
       "      <td>Twnhs</td>\n",
       "      <td>84500</td>\n",
       "    </tr>\n",
       "    <tr>\n",
       "      <th>915</th>\n",
       "      <td>MeadowV</td>\n",
       "      <td>RM</td>\n",
       "      <td>160</td>\n",
       "      <td>Twnhs</td>\n",
       "      <td>75000</td>\n",
       "    </tr>\n",
       "    <tr>\n",
       "      <th>1007</th>\n",
       "      <td>MeadowV</td>\n",
       "      <td>RM</td>\n",
       "      <td>160</td>\n",
       "      <td>TwnhsE</td>\n",
       "      <td>88000</td>\n",
       "    </tr>\n",
       "    <tr>\n",
       "      <th>1038</th>\n",
       "      <td>MeadowV</td>\n",
       "      <td>RM</td>\n",
       "      <td>160</td>\n",
       "      <td>Twnhs</td>\n",
       "      <td>97000</td>\n",
       "    </tr>\n",
       "    <tr>\n",
       "      <th>1039</th>\n",
       "      <td>MeadowV</td>\n",
       "      <td>RM</td>\n",
       "      <td>180</td>\n",
       "      <td>TwnhsE</td>\n",
       "      <td>80000</td>\n",
       "    </tr>\n",
       "    <tr>\n",
       "      <th>1068</th>\n",
       "      <td>MeadowV</td>\n",
       "      <td>RM</td>\n",
       "      <td>160</td>\n",
       "      <td>TwnhsE</td>\n",
       "      <td>151400</td>\n",
       "    </tr>\n",
       "    <tr>\n",
       "      <th>1086</th>\n",
       "      <td>MeadowV</td>\n",
       "      <td>RM</td>\n",
       "      <td>160</td>\n",
       "      <td>TwnhsE</td>\n",
       "      <td>83500</td>\n",
       "    </tr>\n",
       "    <tr>\n",
       "      <th>1367</th>\n",
       "      <td>MeadowV</td>\n",
       "      <td>RM</td>\n",
       "      <td>160</td>\n",
       "      <td>TwnhsE</td>\n",
       "      <td>127000</td>\n",
       "    </tr>\n",
       "    <tr>\n",
       "      <th>1449</th>\n",
       "      <td>MeadowV</td>\n",
       "      <td>RM</td>\n",
       "      <td>180</td>\n",
       "      <td>Twnhs</td>\n",
       "      <td>92000</td>\n",
       "    </tr>\n",
       "  </tbody>\n",
       "</table>\n",
       "</div>"
      ],
      "text/plain": [
       "     Neighborhood MSZoning  MSSubClass BldgType  SalePrice\n",
       "23        MeadowV       RM         120   TwnhsE     129900\n",
       "75        MeadowV       RM         180    Twnhs      91000\n",
       "344       MeadowV       RM         160   TwnhsE      85000\n",
       "357       MeadowV       RM         120   TwnhsE     134000\n",
       "434       MeadowV       RM         180    Twnhs      81000\n",
       "489       MeadowV       RM         180    Twnhs      86000\n",
       "490       MeadowV       RM         160   TwnhsE     115000\n",
       "614       MeadowV       RM         180   TwnhsE      75500\n",
       "649       MeadowV       RM         180    Twnhs      84500\n",
       "915       MeadowV       RM         160    Twnhs      75000\n",
       "1007      MeadowV       RM         160   TwnhsE      88000\n",
       "1038      MeadowV       RM         160    Twnhs      97000\n",
       "1039      MeadowV       RM         180   TwnhsE      80000\n",
       "1068      MeadowV       RM         160   TwnhsE     151400\n",
       "1086      MeadowV       RM         160   TwnhsE      83500\n",
       "1367      MeadowV       RM         160   TwnhsE     127000\n",
       "1449      MeadowV       RM         180    Twnhs      92000"
      ]
     },
     "execution_count": 23,
     "metadata": {},
     "output_type": "execute_result"
    }
   ],
   "source": [
    "BldgTypeOHE = pd.get_dummies(data_train['BldgType'].reset_index(drop=True))\n",
    "var = 'BldgType'\n",
    "Btype = '2fmCon'\n",
    "# 1Fam 2fmCon  Duplex  Twnhs  TwnhsE\n",
    "# 1220   31     52       43     114\n",
    "\n",
    "#print(np.mean(data_train[data_train[var] == Btype]['SalePrice']))\n",
    "#print(np.std(data_train[data_train[var] == Btype]['SalePrice']))\n",
    "\n",
    "#print(np.polyfit(data_train[data_train[var] == Btype]['GrLivArea'], data_train[data_train[var] == Btype]['SalePrice'], 1))\n",
    "\n",
    "#pd.concat((data_train[data_train[var] == Btype][var], \n",
    "#           data_train[data_train[var] == Btype]['Neighborhood'],\n",
    "#           data_train[data_train[var] == Btype]['SalePrice']\n",
    "#          ), axis=1)\n",
    "\n",
    "#print(Counter(data_train['MSSubClass']))\n",
    "print(Counter(data_train['Neighborhood']))\n",
    "\n",
    "hood = 'MeadowV'\n",
    "\n",
    "print(np.mean(data_train[data_train['Neighborhood'] == hood]['SalePrice']))\n",
    "\n",
    "pd.concat((data_train[data_train['Neighborhood'] == hood]['Neighborhood'],\n",
    "           data_train[data_train['Neighborhood'] == hood]['MSZoning'],\n",
    "           data_train[data_train['Neighborhood'] == hood]['MSSubClass'],\n",
    "           data_train[data_train['Neighborhood'] == hood][var],\n",
    "           data_train[data_train['Neighborhood'] == hood]['SalePrice']\n",
    "          ), axis=1)\n"
   ]
  },
  {
   "cell_type": "code",
   "execution_count": 24,
   "metadata": {
    "scrolled": true
   },
   "outputs": [],
   "source": [
    "def is_old(x):\n",
    "    if (np.equal(x, 30) or np.equal(x, 70)):\n",
    "        return 128826.32558139534 # average of MSSubClass = 30 or 70\n",
    "    elif np.equal(x, 45):\n",
    "        return 108591.66666666667\n",
    "    else:\n",
    "        return 185970.21036814424\n",
    "\n",
    "def no_airCond(x):\n",
    "    if x == 'N':\n",
    "        return 105264.07368421053\n",
    "    else:\n",
    "        return 186186.7098901099\n",
    "\n",
    "no_airCond = np.vectorize(no_airCond)    \n",
    "is_old = np.vectorize(is_old)\n",
    "\n",
    "'''\n",
    "print(pd.concat((data_train[data_train['CentralAir'] == 'N']['CentralAir'], \n",
    "          data_train[data_train['CentralAir'] == 'N']['MSSubClass'],\n",
    "          data_train[data_train['CentralAir'] == 'N']['SalePrice']), axis=1).to_string())\n",
    "'''\n",
    "\n",
    "NoCentralAir = no_airCond(data_train['CentralAir'])\n",
    "PWWII = is_old(data_train['MSSubClass'])"
   ]
  },
  {
   "cell_type": "code",
   "execution_count": null,
   "metadata": {},
   "outputs": [],
   "source": []
  }
 ],
 "metadata": {
  "kernelspec": {
   "display_name": "Python 3",
   "language": "python",
   "name": "python3"
  },
  "language_info": {
   "codemirror_mode": {
    "name": "ipython",
    "version": 3
   },
   "file_extension": ".py",
   "mimetype": "text/x-python",
   "name": "python",
   "nbconvert_exporter": "python",
   "pygments_lexer": "ipython3",
   "version": "3.6.3"
  }
 },
 "nbformat": 4,
 "nbformat_minor": 2
}
